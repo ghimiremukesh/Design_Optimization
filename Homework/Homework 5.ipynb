{
 "cells": [
  {
   "cell_type": "markdown",
   "metadata": {},
   "source": [
    "### Problem 1\n",
    "\n",
    "(100 points) Consider the following problem. \n",
    "\n",
    "$$\n",
    "\\begin{eqnarray*}\n",
    "\\hbox{min } f&=& x_1^2+(x_2-3)^2\\\\\n",
    "\\hbox{s.t. } g_1&=& x_2^2-2x_1\\leq 0\\\\\n",
    "             g_2&=& (x_2-1)^2+5x_1-15\\leq 0\\\\\n",
    "\\end{eqnarray*}\n",
    "$$\n",
    "\n",
    "Implement an SQP algorithm with line search to solve this problem, starting from\n",
    "${\\bf x}_0=(1,1)^T$. Incorporate the QP subproblem. Use BFGS\n",
    "approximation for the Hessian of the Lagrangian. Use the\n",
    "merit function and Armijo Line Search to find the step size."
   ]
  },
  {
   "cell_type": "markdown",
   "metadata": {},
   "source": []
  },
  {
   "cell_type": "code",
   "execution_count": 1,
   "metadata": {},
   "outputs": [],
   "source": [
    "import numpy as np"
   ]
  },
  {
   "cell_type": "code",
   "execution_count": 205,
   "metadata": {},
   "outputs": [],
   "source": [
    "# objective function\n",
    "def f(x):\n",
    "    return x[0][0]**2 + (x[1][0] - 3)**2\n",
    "\n",
    "# gradient of the objective\n",
    "def df(x):\n",
    "    return np.array([[2*x[0][0]],\n",
    "                    [2*x[1][0] - 6]])\n",
    "\n",
    "# ineq. constraints\n",
    "def constraint(x):\n",
    "    return np.array([[x[1][0]**2 - 2*x[0][0]],\n",
    "                    [(x[1][0] - 1)**2 + 5*x[0][0] - 15]]) \n",
    "\n",
    "    \n",
    "# gradients of the constraints [[dg1/dx1, dg1/dx2],\n",
    "#                               [dg2/dx1, dg2/dx2]]\n",
    "def dg(x):\n",
    "    return np.array([[-2, 2*x[1][0]],\n",
    "                    [5, 2*x[1][0]-2]])\n",
    "    \n",
    "\n",
    "def line_search(x, s, mu, w_old, k):\n",
    "    tilt = 0.3\n",
    "    alpha = 1 # start with 1\n",
    "    \n",
    "    if k == 0: # at first iteration, just take the abs of mu as penalty\n",
    "        w = np.abs(mu)\n",
    "    else:\n",
    "        w = np.zeros((2,1))\n",
    "        w = np.maximum(np.abs(w), 0.5 * (w_old) + np.abs(mu))\n",
    "        \n",
    "    # derivative of g w.r.t. alpha d max(0, g)/da\n",
    "    dg_da = np.zeros((dg(x).shape))\n",
    "    idx = np.argwhere(constraint(x) <= 0)\n",
    "    \n",
    "    if len(idx) != 0:\n",
    "        for i in range(len(idx)):\n",
    "            dg_da[idx[i][0],:] = np.matmul(dg(x)[idx[i][0], :], s)\n",
    "    \n",
    "    #print(np.matmul(df(x), s.T))\n",
    "    #print(w.T.shape, dg_da.shape)\n",
    "    dF_da = np.matmul(df(x), s.T) + np.matmul(w.T, dg_da)\n",
    "    \n",
    "    #print(np.matmul(df(x), s.T))\n",
    "    #print(np.matmul(w.T, dg_da))\n",
    "    cons = constraint(x + a*s)\n",
    "    cons = np.array([max(0, con) for con in cons]).reshape(cons.shape)\n",
    "\n",
    "    F_a = lambda x, w, a, s: f(x + a*s) + np.matmul(w.T, cons)\n",
    "    phi = lambda x, w, a, t, dF_da: F_a(x, w, 0, 0) + a*t*dF_da\n",
    "    \n",
    "    #print(F_a(x, w, 0, 0))\n",
    "    #print(a*tilt*dF_da)\n",
    "    while phi(x, w, a, tilt, dF_da).any() < F_a(x, w, alpha, s).any():\n",
    "        alpha *= 0.8\n",
    "    \n",
    "    return alpha, w\n",
    "            \n",
    "        \n",
    "        \n",
    "\n",
    "    \n",
    "def solveqp(x, W, df, g, dg):\n",
    "    A0 = dg(x) # jacobian of the constraints\n",
    "    b0 = g(x) # all the constraints\n",
    "    mu_0 = np.zeros((b0.shape[0], 1)) # initial lagrange multipliers\n",
    "    mu = []\n",
    "    active_set = []\n",
    "    stop = False\n",
    "    while not stop:\n",
    "        if len(active_set) == 0:\n",
    "            #print(W.shape, df(x).shape)\n",
    "            s_and_mu = np.matmul(np.linalg.inv(W.copy()), -df(x))\n",
    "            s = s_and_mu[:2, :]\n",
    "            mu = []\n",
    "        else:\n",
    "            if len(active_set) == 1:\n",
    "                A = A0[active[0], :].reshape(1, -1)\n",
    "                b = b0[active[0], :]\n",
    "            if len(active_set) == 2:\n",
    "                A = A0.copy()\n",
    "                b = b0.copy()\n",
    "                temp = np.vstack(np.hstack((W, A.T)), \n",
    "                                np.hstack(A, np.zeros((A.shape[0], A.shape[0]))))\n",
    "                s_and_mu = np.matmul(np.linalg.inv(temp), np.vstack((-f(x).T, -b)))\n",
    "                s = s_and_mu[:2, :]\n",
    "                mu = s_and_mu[2:, :]\n",
    "                \n",
    "                if len(mu) == 1:\n",
    "                    mu_0[0] = s_mu[2:3, :]\n",
    "                if len(mu) == 2:\n",
    "                    mu_0[0] = s_mu[2:3, :]\n",
    "                    mu_0[1] = s_mu[3:, :]\n",
    "            \n",
    "        qp_cons = np.round((np.matmul(A0, s.reshape(-1,1))+b0))\n",
    "        \n",
    "        # check mu values --1 is okay, 0 is not\n",
    "        mucheck = 0\n",
    "        \n",
    "        if len(mu) == 0: # no constraints are active\n",
    "            mucheck = 1\n",
    "        elif np.minimum(mu) > 0: # all constraints are valid\n",
    "            mucheck = 1\n",
    "            stop = True\n",
    "        else: # remove most negative mu from the set\n",
    "            min_idx = np.argmin(np.array(mu))\n",
    "            mu.remove(np.minimum(mu))\n",
    "            active_set.pop(min_idx) # also remove the corresponding entry\n",
    "        \n",
    "        # also add the least negative to the set\n",
    "        if np.max(qp_cons) <= 0:\n",
    "            if mucheck == 1:\n",
    "                return s, mu_0\n",
    "            else:\n",
    "                idx = np.argmax(qp_constraint)\n",
    "                active_set.append(idx)\n",
    "                active_set = np.unique(np.array(active_set)).tolist()\n",
    "        \n",
    "    \n",
    "            \n",
    "                \n",
    "def BFGS(W, x, dx, s, mu):\n",
    "    dL = f(x) + np.matmul(mu.T, dg(x)) - (f(x-dx)+np.matmul(mu.T, constraint(x-dx)))\n",
    "    Q = np.matmul(np.matmul(dx.T, W), dx)\n",
    "    \n",
    "    if np.matmul(dx.T, dL.T) >= 0.2 * np.matmul(np.matmul(dx.T, W), dx):\n",
    "        theta = 1\n",
    "    else:\n",
    "        theta = 0.8 * Q / (Q-np.matmul(dx.T, dL.T))\n",
    "        \n",
    "    y = theta * dL.T + (1-theta) * np.matmul(W, dx)\n",
    "    \n",
    "    W_new = W + np.matmul(y, y.T) / np.matmul(y.T, s) - np.matmul(np.matmul(W, s), np.matmul(s.T, W)) / np.matmul(np.matmul(s.T, W), s) \n",
    "    \n",
    "    return W_new\n",
    "    \n",
    "    \n",
    "def sqp(f, df, g, dg, x):\n",
    "    W = np.eye(x0.shape[0]) # hessian\n",
    "    w = np.zeros((2,1)) # weights of the merit function for line search\n",
    "    mu_old = np.zeros((x0.shape[0], 1))\n",
    "    norm = np.linalg.norm(f(x0) + np.matmul(mu_old.T, dg(x0)))\n",
    "    error = 1e-3 # termination creterion\n",
    "    k = 0\n",
    "    solution = []\n",
    "    w_old = np.zeros((2, 1))\n",
    "    while norm >= error:\n",
    "        # solve QP sub-problem\n",
    "        s, mu_new = solveqp(x, W, df, g, dg)\n",
    "        \n",
    "        #print(s)\n",
    "        \n",
    "        alpha, w_new = line_search(x, s, mu_old, w_old, k)\n",
    "        w_old = w_new\n",
    "        # update current solution of x\n",
    "        dx = alpha*s\n",
    "        x = x - dx\n",
    "        # get new Hessian approx using BFGS\n",
    "        W = BFGS(W, x, dx, s, mu_new)\n",
    "        k += 1\n",
    "        norm = np.linalg.norm(f(x) + np.matmul(mu_new.T, dg(x)))\n",
    "        mu_old = mu_new\n",
    "        solution.append(x)\n",
    "        print(solution)\n",
    "    \n",
    "    return solution\n",
    "        "
   ]
  },
  {
   "cell_type": "code",
   "execution_count": null,
   "metadata": {},
   "outputs": [],
   "source": [
    "x0 = np.array([[0.], [1.]])\n",
    "\n",
    "sol = sqp(f, df, constraint, dg, x0)"
   ]
  },
  {
   "cell_type": "code",
   "execution_count": 86,
   "metadata": {},
   "outputs": [],
   "source": [
    "a = np.array([[-2],\n",
    "    [0]])"
   ]
  },
  {
   "cell_type": "code",
   "execution_count": 87,
   "metadata": {},
   "outputs": [],
   "source": [
    "idx = np.where(a<=0)"
   ]
  },
  {
   "cell_type": "code",
   "execution_count": 139,
   "metadata": {},
   "outputs": [
    {
     "data": {
      "text/plain": [
       "array([[0., 0.],\n",
       "       [0., 0.]])"
      ]
     },
     "execution_count": 139,
     "metadata": {},
     "output_type": "execute_result"
    }
   ],
   "source": [
    "np.zeros((dg(x0).shape))"
   ]
  },
  {
   "cell_type": "code",
   "execution_count": 98,
   "metadata": {},
   "outputs": [
    {
     "data": {
      "text/plain": [
       "array([-2.,  0.])"
      ]
     },
     "execution_count": 98,
     "metadata": {},
     "output_type": "execute_result"
    }
   ],
   "source": [
    "dg(x0)[0, :]"
   ]
  },
  {
   "cell_type": "code",
   "execution_count": 147,
   "metadata": {},
   "outputs": [
    {
     "data": {
      "text/plain": [
       "array([[0],\n",
       "       [0]])"
      ]
     },
     "execution_count": 147,
     "metadata": {},
     "output_type": "execute_result"
    }
   ],
   "source": [
    "np.array([max(0, con) for con in constraint(x0)]).reshape(constraint(x0).shape)"
   ]
  },
  {
   "cell_type": "code",
   "execution_count": 170,
   "metadata": {},
   "outputs": [],
   "source": [
    "dg_da = np.zeros((dg(x0).shape))"
   ]
  },
  {
   "cell_type": "code",
   "execution_count": 172,
   "metadata": {},
   "outputs": [
    {
     "data": {
      "text/plain": [
       "array([0., 0.])"
      ]
     },
     "execution_count": 172,
     "metadata": {},
     "output_type": "execute_result"
    }
   ],
   "source": [
    "dg_da[0, :]"
   ]
  },
  {
   "cell_type": "code",
   "execution_count": 176,
   "metadata": {},
   "outputs": [],
   "source": [
    "d1 = dg(x0)"
   ]
  },
  {
   "cell_type": "code",
   "execution_count": 177,
   "metadata": {},
   "outputs": [
    {
     "data": {
      "text/plain": [
       "0.0"
      ]
     },
     "execution_count": 177,
     "metadata": {},
     "output_type": "execute_result"
    }
   ],
   "source": [
    "d1[0, 1]"
   ]
  },
  {
   "cell_type": "code",
   "execution_count": 182,
   "metadata": {},
   "outputs": [],
   "source": [
    "idx = np.where(d1<=0)"
   ]
  },
  {
   "cell_type": "code",
   "execution_count": 183,
   "metadata": {},
   "outputs": [
    {
     "data": {
      "text/plain": [
       "(array([0, 0, 1], dtype=int64), array([0, 1, 1], dtype=int64))"
      ]
     },
     "execution_count": 183,
     "metadata": {},
     "output_type": "execute_result"
    }
   ],
   "source": [
    "idx"
   ]
  },
  {
   "cell_type": "code",
   "execution_count": 185,
   "metadata": {},
   "outputs": [
    {
     "data": {
      "text/plain": [
       "(array([0, 1], dtype=int64), array([0, 1], dtype=int64))"
      ]
     },
     "execution_count": 185,
     "metadata": {},
     "output_type": "execute_result"
    }
   ],
   "source": [
    "np.where(d1<0)"
   ]
  },
  {
   "cell_type": "code",
   "execution_count": 198,
   "metadata": {},
   "outputs": [],
   "source": [
    "idx = np.argwhere(d1==1)"
   ]
  },
  {
   "cell_type": "code",
   "execution_count": 195,
   "metadata": {},
   "outputs": [
    {
     "data": {
      "text/plain": [
       "array([[-2.,  0.],\n",
       "       [-2.,  0.]])"
      ]
     },
     "execution_count": 195,
     "metadata": {},
     "output_type": "execute_result"
    }
   ],
   "source": [
    "d1[idx[0],:]"
   ]
  },
  {
   "cell_type": "code",
   "execution_count": 200,
   "metadata": {},
   "outputs": [
    {
     "data": {
      "text/plain": [
       "0"
      ]
     },
     "execution_count": 200,
     "metadata": {},
     "output_type": "execute_result"
    }
   ],
   "source": []
  },
  {
   "cell_type": "code",
   "execution_count": null,
   "metadata": {},
   "outputs": [],
   "source": []
  }
 ],
 "metadata": {
  "kernelspec": {
   "display_name": "Python 3",
   "language": "python",
   "name": "python3"
  },
  "language_info": {
   "codemirror_mode": {
    "name": "ipython",
    "version": 3
   },
   "file_extension": ".py",
   "mimetype": "text/x-python",
   "name": "python",
   "nbconvert_exporter": "python",
   "pygments_lexer": "ipython3",
   "version": "3.6.10"
  }
 },
 "nbformat": 4,
 "nbformat_minor": 5
}
