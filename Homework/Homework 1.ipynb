{
 "cells": [
  {
   "cell_type": "markdown",
   "metadata": {
    "collapsed": true,
    "pycharm": {
     "name": "#%% md\n"
    }
   },
   "source": [
    "Solve the following problem using [Python SciPy.optimize][]. Please attach your code and\n",
    "results. Specify your initial guesses of the solution. If you change\n",
    "your initial guess, do you find different solutions? (**100 points**)\n",
    "\n",
    "$$\n",
    "\\begin{aligned}\n",
    "&\\text{minimize:} && (x_1-x_2)^2 + (x_2+x_3-2)^2 + (x_4-1)^2+(x_5-1)^2 \\\\\\\\\n",
    "&\\text{subject to:} && x_1 + 3x_2 = 0 \\\\\\\\\n",
    "&&& x_3 + x_4 - 2x_5 = 0 \\\\\\\\\n",
    "&&& x_2 - x_5 = 0 \\\\\\\\\n",
    "&&& -10 \\leq x_i \\leq 10, \\~i=1,\\ldots,5\n",
    "\\end{aligned}$$\n",
    "\n",
    "**Note**:\n",
    "\n",
    "1.  Please learn how to use **break points** to debug. **I will not\n",
    "    address your programming questions if you have not learned how to\n",
    "    debug your code.**\n",
    "\n",
    "2.  I recommend [PyCharm][] as the IDE. If you are new to Python, you can also start with [Google Colab][] without installing anything.\n",
    "    \n",
    "3.  If you are on Windows, the [Anaconda][] version of Python 3 is highly recommended.\n",
    "\n",
    "\n",
    "**Here are the steps to push a homework submission**:\n",
    "\n",
    "1.  Clone the [course repo][]: First click on **Code** to get the\n",
    " Git address (e.g., the HTTPS address). Then use your IDE to clone (download) the repo using this address. \n",
    " [PyCharm tutorial][] on using Git.\n",
    "\n",
    "2.  You will find the homework in the **Homework** folder.\n",
    "\n",
    "3.  For analytical problems (e.g., proofs and calculations), please use [Markdown][] to type up your answers. \n",
    "[Markdown Math][]. For Latex users, you can convert tex to markdown using [Pandoc][]. \n",
    "\n",
    "4. For coding problems, please submit a [Jupyter Notebook][] file with your code and final results. \n",
    "You can also add a URL to your Jupyter or Colab Notebook in README.md if you use online notebooks.\n",
    "\n",
    "5. For each homework, please submit a single notebook file (or link) that combines the markdown solutions, \n",
    "the codes, and the computation results, and name the file according to the homework.  \n",
    "\n",
    "6. **IMPORTANT** Please push (upload) the notebook file every time you work on the \n",
    "homework and add comments when you push, e.g., \"finished problem 1, still debugging problem 2\". This way I \n",
    "know you worked on your own.\n",
    " \n",
    "\n",
    "[Python SciPy.optimize]: https://docs.scipy.org/doc/scipy/reference/tutorial/optimize.html#\n",
    "[PyCharm]: https://www.jetbrains.com/pycharm/promo/?utm_source=bing&utm_medium=cpc&utm_campaign=AMER_en_US-PST%2BMST_PyCharm_Branded&utm_term=pycharm&utm_content=pycharm\n",
    "[Google Colab]: https://colab.research.google.com\n",
    "[Anaconda]: https://anaconda.org/anaconda/python\n",
    "[course repo]: https://github.com/DesignInformaticsLab/DesignOptimization2021Fall\n",
    "[PyCharm tutorial]: https://www.jetbrains.com/help/pycharm/set-up-a-git-repository.html#clone-repo\n",
    "[Pandoc]: https://pandoc.org/try/\n",
    "[Jupyter Notebook]: https://jupyter.org/try\n",
    "[Markdown]: https://guides.github.com/features/mastering-markdown/\n",
    "[Markdown Math]: http://luvxuan.top/posts/Markdown-math/"
   ]
  },
  {
   "cell_type": "markdown",
   "metadata": {},
   "source": [
    "#### Import libraries first"
   ]
  },
  {
   "cell_type": "code",
   "execution_count": 43,
   "metadata": {},
   "outputs": [],
   "source": [
    "from scipy import optimize\n",
    "import numpy as np\n",
    "import pandas as pd"
   ]
  },
  {
   "cell_type": "code",
   "execution_count": 3,
   "metadata": {},
   "outputs": [],
   "source": [
    "def f(x):\n",
    "    assert len(x) == 5, \"There are 5 variables!\"\n",
    "    return (x[0]-x[1])**2 + (x[1] + x[2] - 2)**2 + (x[3] - 1)**2 + (x[4] - 1)**2"
   ]
  },
  {
   "cell_type": "markdown",
   "metadata": {},
   "source": [
    "### Define Constraints "
   ]
  },
  {
   "cell_type": "code",
   "execution_count": 4,
   "metadata": {},
   "outputs": [],
   "source": [
    "def constraint1(x):\n",
    "    return x[0] + 3*x[1] \n",
    "\n",
    "def constraint2(x):\n",
    "    return x[2] + x[3] - 2*x[4] \n",
    "\n",
    "def constraint3(x):\n",
    "    return x[1] - x[4]  "
   ]
  },
  {
   "cell_type": "markdown",
   "metadata": {},
   "source": [
    "### Make dictionaries of constraints and make a tuple"
   ]
  },
  {
   "cell_type": "code",
   "execution_count": 5,
   "metadata": {},
   "outputs": [],
   "source": [
    "#source consulted: https://towardsdatascience.com/optimization-with-scipy-and-application-ideas-to-machine-learning-81d39c7938b8\n",
    "\n",
    "cons1 = {'type': 'eq', 'fun': constraint1}\n",
    "cons2 = {'type': 'eq', 'fun': constraint2}\n",
    "cons3 = {'type': 'eq', 'fun': constraint3}\n",
    "\n",
    "cons = (cons1, cons2, cons3)\n",
    "\n",
    "bounds = (-10, 10)"
   ]
  },
  {
   "cell_type": "code",
   "execution_count": 33,
   "metadata": {},
   "outputs": [],
   "source": [
    "'''\n",
    "initial guess of zeroes\n",
    "minimize using optimize.minimize with bounds and constraints \n",
    "method used: SLSQP\n",
    "same bounds for all vars\n",
    "'''\n",
    "\n",
    "#check with multiple guesses\n",
    "#x0 = [0, 0, 0, 0, 0]\n",
    "minimums = []\n",
    "guesses = []\n",
    "for i in range(10):\n",
    "    x0 = np.random.rand(5)*10 - 10\n",
    "    guesses.append(x0)\n",
    "    minimum = optimize.minimize(fun=f, method='SLSQP', bounds=(bounds, bounds, bounds, bounds, bounds), x0=x0, constraints = cons)\n",
    "    minimums.append(minimum)\n",
    "\n",
    "minimums.append(optimize.minimize(fun=f, method='SLSQP', bounds=(bounds, bounds, bounds, bounds, bounds), x0= [0, 0, 0, 0, 0], constraints = cons))\n",
    "guesses.append([0, 0, 0, 0, 0])"
   ]
  },
  {
   "cell_type": "markdown",
   "metadata": {},
   "source": [
    "We can see the solutions for the guesses below: "
   ]
  },
  {
   "cell_type": "code",
   "execution_count": 42,
   "metadata": {},
   "outputs": [
    {
     "name": "stdout",
     "output_type": "stream",
     "text": [
      "     -----------------Solutions--------------------- \t             ----------------------Guesses--------------\n",
      "[-0.76743594  0.25581198  0.62792529 -0.11630133  0.25581198] [-5.44034522 -3.18998393 -6.69748374 -4.85264124 -5.79018015]\n",
      "[-0.76744767  0.25581589  0.62789916 -0.11626738  0.25581589] [-5.28079942 -4.15077552 -4.30054702 -1.19137778 -5.34490343]\n",
      "[-0.76743932  0.25581311  0.62791285 -0.11628663  0.25581311] [-0.12319224 -5.1931044  -7.87662892 -6.19035746 -1.64629288]\n",
      "[-0.76744453  0.25581484  0.62789748 -0.11626779  0.25581484] [-9.79529312 -8.22938715 -0.59985847 -5.84433567 -3.29433568]\n",
      "[-0.76744185  0.25581395  0.62790699 -0.11627908  0.25581395] [-1.36213269 -3.7187524  -1.50625939 -8.93620214 -1.04375646]\n",
      "[-0.76744186  0.25581395  0.62790697 -0.11627907  0.25581395] [-0.1557076  -7.63987814 -7.61172376 -4.00905576 -0.78256392]\n",
      "[-0.76744347  0.25581449  0.62790855 -0.11627957  0.25581449] [-9.73993996 -7.74999429 -4.30412685 -9.06127427 -9.69827437]\n",
      "[-0.76744185  0.25581395  0.62790698 -0.11627907  0.25581395] [-9.72375333 -6.98473207 -6.2749959  -4.55596499 -3.75509065]\n",
      "[-0.76744186  0.25581395  0.62790698 -0.11627907  0.25581395] [-6.8739636  -0.95334126 -8.1506457  -1.16768801 -0.82413147]\n",
      "[-0.76744186  0.25581395  0.62790698 -0.11627908  0.25581395] [-9.01399795 -5.29586878 -7.49048673 -2.31620681 -0.44645552]\n",
      "[-0.76744186  0.25581395  0.62790698 -0.11627907  0.25581395] [0, 0, 0, 0, 0]\n"
     ]
    }
   ],
   "source": [
    "\n",
    "print('     -----------------Solutions--------------------- \\t             ----------------------Guesses--------------')\n",
    "for j in range(len(minimums)):\n",
    "    print(minimums[j].x, guesses[j])"
   ]
  },
  {
   "cell_type": "markdown",
   "metadata": {},
   "source": [
    "In the above result it can be observed that the solutions are accurate to 3 decimal places for random 10 random guesses of each variable. Beyond that, the results are different based on the initial guesses. "
   ]
  },
  {
   "cell_type": "code",
   "execution_count": 67,
   "metadata": {},
   "outputs": [],
   "source": [
    "df = pd.DataFrame(columns = ['x1', 'x2', 'x3', 'x4', 'x5', 'Minimum'])\n",
    "df.loc[0] = np.append(minimums[10].x, minimums[10].fun)\n",
    "df.set_axis(['Solutions'], inplace=True)"
   ]
  },
  {
   "cell_type": "markdown",
   "metadata": {},
   "source": [
    "### The values for each variables (x1, x2, x3, x4, and x5) that minimize the objective function f(x) are shown below (initial guess of zeros):"
   ]
  },
  {
   "cell_type": "code",
   "execution_count": 68,
   "metadata": {},
   "outputs": [
    {
     "data": {
      "text/html": [
       "<div>\n",
       "<style scoped>\n",
       "    .dataframe tbody tr th:only-of-type {\n",
       "        vertical-align: middle;\n",
       "    }\n",
       "\n",
       "    .dataframe tbody tr th {\n",
       "        vertical-align: top;\n",
       "    }\n",
       "\n",
       "    .dataframe thead th {\n",
       "        text-align: right;\n",
       "    }\n",
       "</style>\n",
       "<table border=\"1\" class=\"dataframe\">\n",
       "  <thead>\n",
       "    <tr style=\"text-align: right;\">\n",
       "      <th></th>\n",
       "      <th>x1</th>\n",
       "      <th>x2</th>\n",
       "      <th>x3</th>\n",
       "      <th>x4</th>\n",
       "      <th>x5</th>\n",
       "      <th>Minimum</th>\n",
       "    </tr>\n",
       "  </thead>\n",
       "  <tbody>\n",
       "    <tr>\n",
       "      <th>Solutions</th>\n",
       "      <td>-0.767442</td>\n",
       "      <td>0.255814</td>\n",
       "      <td>0.627907</td>\n",
       "      <td>-0.116279</td>\n",
       "      <td>0.255814</td>\n",
       "      <td>4.093023</td>\n",
       "    </tr>\n",
       "  </tbody>\n",
       "</table>\n",
       "</div>"
      ],
      "text/plain": [
       "                 x1        x2        x3        x4        x5   Minimum\n",
       "Solutions -0.767442  0.255814  0.627907 -0.116279  0.255814  4.093023"
      ]
     },
     "execution_count": 68,
     "metadata": {},
     "output_type": "execute_result"
    }
   ],
   "source": [
    "df"
   ]
  },
  {
   "cell_type": "code",
   "execution_count": null,
   "metadata": {},
   "outputs": [],
   "source": []
  }
 ],
 "metadata": {
  "kernelspec": {
   "display_name": "Python 3",
   "language": "python",
   "name": "python3"
  },
  "language_info": {
   "codemirror_mode": {
    "name": "ipython",
    "version": 3
   },
   "file_extension": ".py",
   "mimetype": "text/x-python",
   "name": "python",
   "nbconvert_exporter": "python",
   "pygments_lexer": "ipython3",
   "version": "3.6.10"
  },
  "pycharm": {
   "stem_cell": {
    "cell_type": "raw",
    "metadata": {
     "collapsed": false
    },
    "source": []
   }
  }
 },
 "nbformat": 4,
 "nbformat_minor": 1
}
