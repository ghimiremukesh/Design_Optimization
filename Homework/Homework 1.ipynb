{
 "cells": [
  {
   "cell_type": "markdown",
   "metadata": {
    "collapsed": true,
    "pycharm": {
     "name": "#%% md\n"
    }
   },
   "source": [
    "Solve the following problem using [Python SciPy.optimize][]. Please attach your code and\n",
    "results. Specify your initial guesses of the solution. If you change\n",
    "your initial guess, do you find different solutions? (**100 points**)\n",
    "\n",
    "$$\n",
    "\\begin{aligned}\n",
    "&\\text{minimize:} && (x_1-x_2)^2 + (x_2+x_3-2)^2 + (x_4-1)^2+(x_5-1)^2 \\\\\\\\\n",
    "&\\text{subject to:} && x_1 + 3x_2 = 0 \\\\\\\\\n",
    "&&& x_3 + x_4 - 2x_5 = 0 \\\\\\\\\n",
    "&&& x_2 - x_5 = 0 \\\\\\\\\n",
    "&&& -10 \\leq x_i \\leq 10, \\~i=1,\\ldots,5\n",
    "\\end{aligned}$$\n",
    "\n",
    "**Note**:\n",
    "\n",
    "1.  Please learn how to use **break points** to debug. **I will not\n",
    "    address your programming questions if you have not learned how to\n",
    "    debug your code.**\n",
    "\n",
    "2.  I recommend [PyCharm][] as the IDE. If you are new to Python, you can also start with [Google Colab][] without installing anything.\n",
    "    \n",
    "3.  If you are on Windows, the [Anaconda][] version of Python 3 is highly recommended.\n",
    "\n",
    "\n",
    "**Here are the steps to push a homework submission**:\n",
    "\n",
    "1.  Clone the [course repo][]: First click on **Code** to get the\n",
    " Git address (e.g., the HTTPS address). Then use your IDE to clone (download) the repo using this address. \n",
    " [PyCharm tutorial][] on using Git.\n",
    "\n",
    "2.  You will find the homework in the **Homework** folder.\n",
    "\n",
    "3.  For analytical problems (e.g., proofs and calculations), please use [Markdown][] to type up your answers. \n",
    "[Markdown Math][]. For Latex users, you can convert tex to markdown using [Pandoc][]. \n",
    "\n",
    "4. For coding problems, please submit a [Jupyter Notebook][] file with your code and final results. \n",
    "You can also add a URL to your Jupyter or Colab Notebook in README.md if you use online notebooks.\n",
    "\n",
    "5. For each homework, please submit a single notebook file (or link) that combines the markdown solutions, \n",
    "the codes, and the computation results, and name the file according to the homework.  \n",
    "\n",
    "6. **IMPORTANT** Please push (upload) the notebook file every time you work on the \n",
    "homework and add comments when you push, e.g., \"finished problem 1, still debugging problem 2\". This way I \n",
    "know you worked on your own.\n",
    " \n",
    "\n",
    "[Python SciPy.optimize]: https://docs.scipy.org/doc/scipy/reference/tutorial/optimize.html#\n",
    "[PyCharm]: https://www.jetbrains.com/pycharm/promo/?utm_source=bing&utm_medium=cpc&utm_campaign=AMER_en_US-PST%2BMST_PyCharm_Branded&utm_term=pycharm&utm_content=pycharm\n",
    "[Google Colab]: https://colab.research.google.com\n",
    "[Anaconda]: https://anaconda.org/anaconda/python\n",
    "[course repo]: https://github.com/DesignInformaticsLab/DesignOptimization2021Fall\n",
    "[PyCharm tutorial]: https://www.jetbrains.com/help/pycharm/set-up-a-git-repository.html#clone-repo\n",
    "[Pandoc]: https://pandoc.org/try/\n",
    "[Jupyter Notebook]: https://jupyter.org/try\n",
    "[Markdown]: https://guides.github.com/features/mastering-markdown/\n",
    "[Markdown Math]: http://luvxuan.top/posts/Markdown-math/"
   ]
  },
  {
   "cell_type": "markdown",
   "metadata": {},
   "source": [
    "#### Import libraries first"
   ]
  },
  {
   "cell_type": "code",
   "execution_count": 20,
   "metadata": {},
   "outputs": [],
   "source": [
    "from scipy import optimize\n",
    "import numpy as np"
   ]
  },
  {
   "cell_type": "code",
   "execution_count": 21,
   "metadata": {},
   "outputs": [],
   "source": [
    "def f(x):\n",
    "    assert len(x) == 5, \"There are 5 variables!\"\n",
    "    return (x[0]-x[1])**2 + (x[1] + x[2] - 2)**2 + (x[3] - 1)**2 + (x[4] - 1)**2"
   ]
  },
  {
   "cell_type": "markdown",
   "metadata": {},
   "source": [
    "### Define Constraints "
   ]
  },
  {
   "cell_type": "code",
   "execution_count": 22,
   "metadata": {},
   "outputs": [],
   "source": [
    "def constraint1(x):\n",
    "    return x[0] + 3*x[1] \n",
    "\n",
    "def constraint2(x):\n",
    "    return x[2] + x[3] - 2*x[4] \n",
    "\n",
    "def constraint3(x):\n",
    "    return x[1] - x[4]  "
   ]
  },
  {
   "cell_type": "markdown",
   "metadata": {},
   "source": [
    "### Make dictionaries of constraints and make a tuple"
   ]
  },
  {
   "cell_type": "code",
   "execution_count": 23,
   "metadata": {},
   "outputs": [],
   "source": [
    "#source consulted: https://towardsdatascience.com/optimization-with-scipy-and-application-ideas-to-machine-learning-81d39c7938b8\n",
    "\n",
    "cons1 = {'type': 'eq', 'fun': constraint1}\n",
    "cons2 = {'type': 'eq', 'fun': constraint2}\n",
    "cons3 = {'type': 'eq', 'fun': constraint3}\n",
    "\n",
    "cons = (cons1, cons2, cons3)\n",
    "\n",
    "bounds = (-10, 10)"
   ]
  },
  {
   "cell_type": "code",
   "execution_count": 24,
   "metadata": {},
   "outputs": [],
   "source": [
    "'''\n",
    "initial guess of zeroes\n",
    "minimize using optimize.minimize with bounds and constraints \n",
    "method used: SLSQP\n",
    "same bounds for all vars\n",
    "'''\n",
    "\n",
    "#check with multiple guesses\n",
    "#x0 = [0, 0, 0, 0, 0]\n",
    "minimums = []\n",
    "\n",
    "for i in range(10):\n",
    "    x0 = np.random.rand(5)*10 - 10\n",
    "    minimum = optimize.minimize(fun=f, method='SLSQP', bounds=(bounds, bounds, bounds, bounds, bounds), x0=x0, constraints = cons)\n",
    "    minimums.append(minimum)"
   ]
  },
  {
   "cell_type": "code",
   "execution_count": 26,
   "metadata": {},
   "outputs": [
    {
     "data": {
      "text/plain": [
       "[     fun: 4.093023255813954\n",
       "      jac: array([-2.04651159, -0.18604648, -2.23255807, -2.23255813, -1.48837209])\n",
       "  message: 'Optimization terminated successfully'\n",
       "     nfev: 37\n",
       "      nit: 6\n",
       "     njev: 6\n",
       "   status: 0\n",
       "  success: True\n",
       "        x: array([-0.76744185,  0.25581395,  0.62790699, -0.11627909,  0.25581395]),\n",
       "      fun: 4.093023317938362\n",
       "      jac: array([-2.04616964, -0.18673038, -2.23290008, -2.2324726 , -1.48845756])\n",
       "  message: 'Optimization terminated successfully'\n",
       "     nfev: 37\n",
       "      nit: 6\n",
       "     njev: 6\n",
       "   status: 0\n",
       "  success: True\n",
       "        x: array([-0.76731364,  0.25577121,  0.62777872, -0.1162363 ,  0.25577121]),\n",
       "      fun: 4.093023494464004\n",
       "      jac: array([-2.04696387, -0.18484169, -2.23180556, -2.23297155, -1.48825902])\n",
       "  message: 'Optimization terminated successfully'\n",
       "     nfev: 42\n",
       "      nit: 7\n",
       "     njev: 7\n",
       "   status: 0\n",
       "  success: True\n",
       "        x: array([-0.76761145,  0.25587048,  0.62822674, -0.11648577,  0.25587048]),\n",
       "      fun: 4.093023255813954\n",
       "      jac: array([-2.04651159, -0.18604648, -2.23255813, -2.23255807, -1.48837203])\n",
       "  message: 'Optimization terminated successfully'\n",
       "     nfev: 37\n",
       "      nit: 6\n",
       "     njev: 6\n",
       "   status: 0\n",
       "  success: True\n",
       "        x: array([-0.76744186,  0.25581395,  0.62790697, -0.11627906,  0.25581395]),\n",
       "      fun: 4.0930232558139545\n",
       "      jac: array([-2.04651165, -0.18604642, -2.23255813, -2.23255807, -1.48837209])\n",
       "  message: 'Optimization terminated successfully'\n",
       "     nfev: 37\n",
       "      nit: 6\n",
       "     njev: 6\n",
       "   status: 0\n",
       "  success: True\n",
       "        x: array([-0.76744187,  0.25581396,  0.62790697, -0.11627906,  0.25581396]),\n",
       "      fun: 4.093023306170923\n",
       "      jac: array([-2.04656148, -0.18566322, -2.23222476, -2.23285419, -1.48835963])\n",
       "  message: 'Optimization terminated successfully'\n",
       "     nfev: 42\n",
       "      nit: 7\n",
       "     njev: 7\n",
       "   status: 0\n",
       "  success: True\n",
       "        x: array([-0.76746056,  0.25582019,  0.62806745, -0.11642708,  0.25582019]),\n",
       "      fun: 4.0930232562528115\n",
       "      jac: array([-2.04652143, -0.18606162, -2.23258305, -2.23252594, -1.48836964])\n",
       "  message: 'Optimization terminated successfully'\n",
       "     nfev: 42\n",
       "      nit: 7\n",
       "     njev: 7\n",
       "   status: 0\n",
       "  success: True\n",
       "        x: array([-0.76744553,  0.25581518,  0.62789333, -0.11626298,  0.25581518]),\n",
       "      fun: 4.093023321679645\n",
       "      jac: array([-2.04695302, -0.18546855, -2.23242158, -2.2323637 , -1.4882617 ])\n",
       "  message: 'Optimization terminated successfully'\n",
       "     nfev: 42\n",
       "      nit: 7\n",
       "     njev: 7\n",
       "   status: 0\n",
       "  success: True\n",
       "        x: array([-0.76760738,  0.25586913,  0.6279201 , -0.11618185,  0.25586913]),\n",
       "      fun: 4.093023423352317\n",
       "      jac: array([-2.04721248, -0.18515372, -2.2323662 , -2.23222435, -1.48819685])\n",
       "  message: 'Optimization terminated successfully'\n",
       "     nfev: 42\n",
       "      nit: 7\n",
       "     njev: 7\n",
       "   status: 0\n",
       "  success: True\n",
       "        x: array([-0.76770469,  0.25590156,  0.62791531, -0.11611218,  0.25590156]),\n",
       "      fun: 4.093023530496928\n",
       "      jac: array([-2.04724282, -0.18460506, -2.23184788, -2.23272002, -1.48818928])\n",
       "  message: 'Optimization terminated successfully'\n",
       "     nfev: 42\n",
       "      nit: 7\n",
       "     njev: 7\n",
       "   status: 0\n",
       "  success: True\n",
       "        x: array([-0.76771605,  0.25590535,  0.62817072, -0.11636002,  0.25590535])]"
      ]
     },
     "execution_count": 26,
     "metadata": {},
     "output_type": "execute_result"
    }
   ],
   "source": [
    "minimums"
   ]
  },
  {
   "cell_type": "code",
   "execution_count": 19,
   "metadata": {},
   "outputs": [
    {
     "data": {
      "text/plain": [
       "array([-2.50641935, -9.16908455, -1.11913958, -5.90542458, -7.66104658])"
      ]
     },
     "execution_count": 19,
     "metadata": {},
     "output_type": "execute_result"
    }
   ],
   "source": []
  },
  {
   "cell_type": "code",
   "execution_count": null,
   "metadata": {},
   "outputs": [],
   "source": []
  }
 ],
 "metadata": {
  "kernelspec": {
   "display_name": "Python 3",
   "language": "python",
   "name": "python3"
  },
  "language_info": {
   "codemirror_mode": {
    "name": "ipython",
    "version": 3
   },
   "file_extension": ".py",
   "mimetype": "text/x-python",
   "name": "python",
   "nbconvert_exporter": "python",
   "pygments_lexer": "ipython3",
   "version": "3.6.10"
  },
  "pycharm": {
   "stem_cell": {
    "cell_type": "raw",
    "metadata": {
     "collapsed": false
    },
    "source": []
   }
  }
 },
 "nbformat": 4,
 "nbformat_minor": 1
}
