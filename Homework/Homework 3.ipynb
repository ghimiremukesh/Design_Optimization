{
 "cells": [
  {
   "cell_type": "markdown",
   "metadata": {},
   "source": [
    "### Problem 1 (50 points) \n",
    "\n",
    "Vapor-liquid equilibria data are correlated using two adjustable parameters $A_{12}$ and $A_{21}$ per binary\n",
    "mixture. For low pressures, the equilibrium relation can be formulated as:\n",
    "\n",
    "$$\n",
    "\\begin{aligned}\n",
    "p = & x_1\\exp\\left(A_{12}\\left(\\frac{A_{21}x_2}{A_{12}x_1+A_{21}x_2}\\right)^2\\right)p_{water}^{sat}\\\\\n",
    "& + x_2\\exp\\left(A_{21}\\left(\\frac{A_{12}x_1}{A_{12}x_1+A_{21}x_2}\\right)^2\\right)p_{1,4 dioxane}^{sat}.\n",
    "\\end{aligned}\n",
    "$$\n",
    "\n",
    "Here the saturation pressures are given by the Antoine equation\n",
    "\n",
    "$$\n",
    "\\log_{10}(p^{sat}) = a_1 - \\frac{a_2}{T + a_3},\n",
    "$$\n",
    "\n",
    "where $T = 20$($^{\\circ}{\\rm C}$) and $a_{1,2,3}$ for a water - 1,4 dioxane\n",
    "system is given below.\n",
    "\n",
    "|             | $a_1$     | $a_2$      | $a_3$     |\n",
    "|:------------|:--------|:---------|:--------|\n",
    "| Water       | 8.07131 | 1730.63  | 233.426 |\n",
    "| 1,4 dioxane | 7.43155 | 1554.679 | 240.337 |\n",
    "\n",
    "\n",
    "The following table lists the measured data. Recall that in a binary system $x_1 + x_2 = 1$.\n",
    "\n",
    "|$x_1$ | 0.0 | 0.1 | 0.2 | 0.3 | 0.4 | 0.5 | 0.6 | 0.7 | 0.8 | 0.9 | 1.0 |\n",
    "|:-----|:--------|:---------|:--------|:-----|:-----|:-----|:-----|:-----|:-----|:-----|:-----|\n",
    "|$p$| 28.1 | 34.4 | 36.7 | 36.9 | 36.8 | 36.7 | 36.5 | 35.4 | 32.9 | 27.7 | 17.5 |\n",
    "\n",
    "Estimate $A_{12}$ and $A_{21}$ using data from the above table: \n",
    "\n",
    "1. Formulate the least square problem; \n",
    "2. Since the model is nonlinear, the problem does not have an analytical solution. Therefore, solve it using the gradient descent or Newton's method implemented in HW1; \n",
    "3. Compare your optimized model with the data. Does your model fit well with the data?\n",
    "\n",
    "---"
   ]
  },
  {
   "cell_type": "markdown",
   "metadata": {},
   "source": [
    "### Write about the least square formulation"
   ]
  },
  {
   "cell_type": "code",
   "execution_count": 123,
   "metadata": {},
   "outputs": [
    {
     "name": "stdout",
     "output_type": "stream",
     "text": [
      "[0.8901894 1.1093879]\n",
      "[[18.6297129]]\n"
     ]
    }
   ],
   "source": [
    "import torch as t\n",
    "from torch.autograd import Variable\n",
    "import numpy as np\n",
    "\n",
    "\n",
    "# Data Points\n",
    "xi = [0, 0.1, 0.2, 0.3, 0.4, 0.5, 0.6, 0.7, 0.8, 0.9, 1]\n",
    "\n",
    "# Binary, calculate x2 from x1\n",
    "var = lambda x :  [x, 1-x]\n",
    "\n",
    "# Define a variable, make sure requires_grad=True so that PyTorch can take gradient with respect to this variable\n",
    "# make (x1, x2) from the given data points\n",
    "x = t.from_numpy(np.array(list((map(var, xi)))))\n",
    "\n",
    "# Define variable to optimize\n",
    "a = Variable(t.tensor([1.0 , 1.0 ]), requires_grad=True)\n",
    "\n",
    "# calculate psat values for water and 1,4-dioxane\n",
    "def psat(liq):\n",
    "    if liq == \"water\":\n",
    "        a1 = 8.07131\n",
    "        a2 = 1730.63\n",
    "        a3 = 233.426\n",
    "    else:\n",
    "        a1 = 7.43155\n",
    "        a2 = 1554.679\n",
    "        a3 = 240.337\n",
    "    \n",
    "    return (10**(a1 - (a2/(20+a3))))\n",
    "\n",
    "# Define loss as least square sum \n",
    "def lse_loss(x, y, a):\n",
    "    A = a.clone()\n",
    "    pi = lambda x, a: x[0]*t.exp(a[0]*(a[1]*x[1])/(a[0]*x[0]+a[1]*x[1])**2)*psat(\"water\") \\\n",
    "        + x[1]*t.exp(a[1]*(a[0]*x[0])/(a[0]*x[0]+a[1]*x[1])**2)*psat(\"dioxane\") \n",
    "    \n",
    "    # stack the estimated value\n",
    "    p = t.stack([pi(x[i], A) for i in range(x.size()[0])])\n",
    "    \n",
    "    return t.mm((p - y).reshape(1, -1), \n",
    "                (p - y).reshape(1, -1).t())\n",
    "\n",
    "\n",
    "def lin_search(f, grad, x, a):\n",
    "    tilt = 0.8\n",
    "    alpha = 1\n",
    "    d = -grad\n",
    "    x = x[0]\n",
    "    while f(x, a+alpha*d) > (f(x,a)+tilt*alpha*np.matmul(grad.t(), d)):\n",
    "        alpha *= tilt\n",
    "    return alpha\n",
    "    \n",
    "\n",
    "\n",
    "    \n",
    "\n",
    "\n",
    "# measured data : y\n",
    "y = t.tensor([28.1, 34.4, 36.7, 36.9, 36.8, 36.7, 36.5, 35.4, 32.9, 27.7, 17.5])\n",
    "\n",
    "\n",
    "# Equlibrium pressure formula\n",
    "pi = lambda x, a: x[0]*t.exp(a[0]*(a[1]*x[1])/(a[0]*x[0]+a[1]*x[1])**2)*psat(\"water\") \\\n",
    "        + x[1]*t.exp(a[1]*(a[0]*x[0])/(a[0]*x[0]+a[1]*x[1])**2)*psat(\"dioxane\") \n",
    "\n",
    "# Fix the step size\n",
    "alpha = 0.001\n",
    "\n",
    "\n",
    "# Start gradient descent\n",
    "for i in range(80):  # TODO: change the termination criterion\n",
    "    loss = lse_loss(x, y, a)\n",
    "    \n",
    "    #loss = a[0]\n",
    "    loss.backward(retain_graph=True)\n",
    "    \n",
    "    # no_grad() specifies that the operations within this context are not part of the computational graph, i.e., we don't need the gradient descent algorithm itself to be differentiable with respect to x\n",
    "    with t.no_grad():\n",
    "        #t.autograd.set_detect_anomaly(True)\n",
    "        #alpha = lin_search(pi, a.grad, x, a)\n",
    "        a -= alpha * a.grad\n",
    "        # need to clear the gradient at every step, or otherwise it will accumulate...\n",
    "        #print(loss.data.numpy())\n",
    "        a.grad.zero_()\n",
    "            \n",
    "print(a.data.numpy())\n",
    "print(loss.data.numpy())\n",
    "\n",
    "\n",
    "# Check the gradient. numpy() turns the variable from a PyTorch tensor to a numpy array.\n",
    "#a.grad.numpy()"
   ]
  },
  {
   "cell_type": "code",
   "execution_count": 129,
   "metadata": {},
   "outputs": [
    {
     "name": "stdout",
     "output_type": "stream",
     "text": [
      "Estimated Value with A = [0.8901894 1.1093879]\n",
      "------\n",
      "[28.82409953 31.90601618 34.44887909 36.37314567 37.57910457 37.9370817\n",
      " 37.27215448 35.34008284 31.78898603 26.09748822 17.47325208]\n"
     ]
    }
   ],
   "source": [
    "print(\"Estimated Value with A =\", a.data.numpy())\n",
    "\n",
    "print ('------')\n",
    "print(t.stack([pi(x[i], a) for i in range(x.size()[0])]).detach().numpy())"
   ]
  },
  {
   "cell_type": "code",
   "execution_count": null,
   "metadata": {},
   "outputs": [],
   "source": [
    "## Newton's Method\n",
    "alpha = 0.005\n",
    "\n",
    "\n",
    "# Start gradient descent\n",
    "for i in range(80):  # TODO: change the termination criterion\n",
    "    loss = lse_loss(x, y, a)\n",
    "    \n",
    "    #loss = a[0]\n",
    "    loss.backward(retain_graph=True)\n",
    "    \n",
    "    # no_grad() specifies that the operations within this context are not part of the computational graph, i.e., we don't need the gradient descent algorithm itself to be differentiable with respect to x\n",
    "    with t.no_grad():\n",
    "        #t.autograd.set_detect_anomaly(True)\n",
    "        #alpha = lin_search(pi, a.grad, x, a)\n",
    "        a -= alpha*t.mm(t.autograd.functional., grad(x))\n",
    "        # need to clear the gradient at every step, or otherwise it will accumulate...\n",
    "        print(loss.data.numpy())\n",
    "        a.grad.zero_()"
   ]
  },
  {
   "cell_type": "code",
   "execution_count": 76,
   "metadata": {},
   "outputs": [],
   "source": [
    "p = x[0]*t.exp(a[0]*(a[1]*x[1]))#/(a[0]*x[0]+a[1]*x[1])**2)*psat(\"water\")"
   ]
  },
  {
   "cell_type": "code",
   "execution_count": 108,
   "metadata": {},
   "outputs": [],
   "source": [
    "ans = t.stack([pi(x[i], a) for i in range(x.size()[0])])"
   ]
  },
  {
   "cell_type": "code",
   "execution_count": 109,
   "metadata": {},
   "outputs": [
    {
     "data": {
      "text/plain": [
       "tensor([ 0.7241, -2.4940, -2.2511, -0.5269,  0.7791,  1.2371,  0.7722, -0.0599,\n",
       "        -1.1110, -1.6025, -0.0267], dtype=torch.float64,\n",
       "       grad_fn=<SubBackward0>)"
      ]
     },
     "execution_count": 109,
     "metadata": {},
     "output_type": "execute_result"
    }
   ],
   "source": [
    "ans - y"
   ]
  },
  {
   "cell_type": "code",
   "execution_count": null,
   "metadata": {},
   "outputs": [],
   "source": [
    "# Here is a code for gradient descent without line search\n",
    "\n",
    "import torch as t\n",
    "from torch.autograd import Variable\n",
    "\n",
    "x = Variable(t.tensor([1.0, 0.0]), requires_grad=True)\n",
    "\n",
    "# Fix the step size\n",
    "alpha = 0.01\n",
    "\n",
    "# Start gradient descent\n",
    "for i in range(1000):  # TODO: change the termination criterion\n",
    "    loss = (x[0] - 1)**2 + (x[1] - 2)**2\n",
    "    loss.backward()\n",
    "    \n",
    "    # no_grad() specifies that the operations within this context are not part of the computational graph, i.e., we don't need the gradient descent algorithm itself to be differentiable with respect to x\n",
    "    with t.no_grad():\n",
    "        x -= alpha * x.grad\n",
    "        \n",
    "        # need to clear the gradient at every step, or otherwise it will accumulate...\n",
    "        x.grad.zero_()\n",
    "        \n",
    "print(x.data.numpy())\n",
    "print(loss.data.numpy())"
   ]
  },
  {
   "cell_type": "code",
   "execution_count": null,
   "metadata": {},
   "outputs": [],
   "source": []
  },
  {
   "cell_type": "code",
   "execution_count": null,
   "metadata": {},
   "outputs": [],
   "source": []
  },
  {
   "cell_type": "code",
   "execution_count": null,
   "metadata": {},
   "outputs": [],
   "source": []
  },
  {
   "cell_type": "markdown",
   "metadata": {},
   "source": [
    "\n",
    "### Problem 2 (50 points) \n",
    "\n",
    "Solve the following problem using Bayesian Optimization:\n",
    "$$\n",
    "    \\min_{x_1, x_2} \\quad \\left(4-2.1x_1^2 + \\frac{x_1^4}{3}\\right)x_1^2 + x_1x_2 + \\left(-4 + 4x_2^2\\right)x_2^2,\n",
    "$$\n",
    "for $x_1 \\in [-3,3]$ and $x_2 \\in [-2,2]$. A tutorial on Bayesian Optimization can be found [here](https://thuijskens.github.io/2016/12/29/bayesian-optimisation/).\n"
   ]
  },
  {
   "cell_type": "code",
   "execution_count": null,
   "metadata": {},
   "outputs": [],
   "source": []
  }
 ],
 "metadata": {
  "kernelspec": {
   "display_name": "Python 3",
   "language": "python",
   "name": "python3"
  },
  "language_info": {
   "codemirror_mode": {
    "name": "ipython",
    "version": 3
   },
   "file_extension": ".py",
   "mimetype": "text/x-python",
   "name": "python",
   "nbconvert_exporter": "python",
   "pygments_lexer": "ipython3",
   "version": "3.6.10"
  }
 },
 "nbformat": 4,
 "nbformat_minor": 5
}
